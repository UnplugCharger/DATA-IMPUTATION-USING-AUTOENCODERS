{
  "nbformat": 4,
  "nbformat_minor": 0,
  "metadata": {
    "colab": {
      "name": "DATA IMPUTATION USING AUTOENCODERS",
      "provenance": [],
      "toc_visible": true,
      "authorship_tag": "ABX9TyMZLTZa/CjB0IWfI5p4CKwY",
      "include_colab_link": true
    },
    "kernelspec": {
      "name": "python3",
      "display_name": "Python 3"
    },
    "accelerator": "GPU"
  },
  "cells": [
    {
      "cell_type": "markdown",
      "metadata": {
        "id": "view-in-github",
        "colab_type": "text"
      },
      "source": [
        "<a href=\"https://colab.research.google.com/github/UnplugCharger/DATA-IMPUTATION-USING-AUTOENCODERS/blob/master/DATA_IMPUTATION_USING_AUTOENCODERS.ipynb\" target=\"_parent\"><img src=\"https://colab.research.google.com/assets/colab-badge.svg\" alt=\"Open In Colab\"/></a>"
      ]
    },
    {
      "cell_type": "markdown",
      "metadata": {
        "id": "K1ERaXVpm83v"
      },
      "source": [
        "# Reconstruction error\n",
        "Our reconstruction error will be the mean squared error which hopefully will work for categorical data. Since we are using Keras, our function must adhere to some rules."
      ]
    },
    {
      "cell_type": "markdown",
      "metadata": {
        "id": "IdYLi4INoK7z"
      },
      "source": [
        "# Importing  the Libraries"
      ]
    },
    {
      "cell_type": "code",
      "metadata": {
        "id": "xyCsSPqqoJsl"
      },
      "source": [
        "import random\n",
        "import pandas as pd\n",
        "import numpy as np\n",
        "import matplotlib.pylab as plt\n",
        "import seaborn as sns\n",
        "from keras.utils import np_utils\n",
        "from sklearn.preprocessing import LabelEncoder\n",
        "from keras.objectives import mse\n",
        "from keras.models import Sequential\n",
        "from keras.layers.core import Dropout, Dense\n",
        "from keras.regularizers import l1_l2 \n",
        "from collections import defaultdict"
      ],
      "execution_count": 1,
      "outputs": []
    },
    {
      "cell_type": "code",
      "metadata": {
        "id": "3iX3zJFepX3z"
      },
      "source": [
        "%matplotlib inline"
      ],
      "execution_count": 2,
      "outputs": []
    },
    {
      "cell_type": "code",
      "metadata": {
        "id": "-fVuypWfmTVH"
      },
      "source": [
        "def make_reconstruction_loss(n_features):\n",
        "    def reconstruction_loss(input_and_mask, y_pred):\n",
        "        X_values = input_and_mask[:, :n_features]\n",
        "        X_values.name = \"$X_values\"\n",
        "        missing_mask = input_and_mask[:, n_features:]\n",
        "        missing_mask.name = \"$missing_mask\"\n",
        "        observed_mask = 1 - missing_mask\n",
        "        observed_mask.name = \"$observed_mask\"\n",
        "        X_values_observed = X_values * observed_mask\n",
        "        X_values_observed.name = \"$X_values_observed\"\n",
        "        pred_observed = y_pred * observed_mask\n",
        "        pred_observed.name = \"$y_pred_observed\"\n",
        "        return mse(y_true=X_values_observed, y_pred=pred_observed)\n",
        "    return reconstruction_loss"
      ],
      "execution_count": 3,
      "outputs": []
    },
    {
      "cell_type": "markdown",
      "metadata": {
        "id": "CTCUAYNrnn_G"
      },
      "source": [
        "Aditionaly we will modify the mean squared error function so that it takes into account the mask  of the input data"
      ]
    },
    {
      "cell_type": "code",
      "metadata": {
        "id": "wPeNAekvngwy"
      },
      "source": [
        "def masked_mae(X_true, X_pred, mask):\n",
        "    masked_diff = X_true[mask] - X_pred[mask]\n",
        "    return np.mean(np.abs(masked_diff))"
      ],
      "execution_count": 4,
      "outputs": []
    },
    {
      "cell_type": "markdown",
      "metadata": {
        "id": "7zqAroKcpdsf"
      },
      "source": [
        "# Model Creation\n",
        "\n",
        "Our NN has 3 hidden layers (with ReLU activation functions) with dropout probability set to 0.5. You can also choose two regularizers coefficients - the sum of the weights (L1) and sum the squares of the weights (L2). These are 0. The activation function for the output layer is sigmoid. It appears to work better than linear for our use case."
      ]
    },
    {
      "cell_type": "code",
      "metadata": {
        "id": "BJ2I1VCmoAZi"
      },
      "source": [
        "\n",
        "class Autoencoder:\n",
        "    def __init__(self, data,\n",
        "                 recurrent_weight=0.5,\n",
        "                 optimizer=\"adam\",\n",
        "                 dropout_probability=0.5,\n",
        "                 hidden_activation=\"relu\",\n",
        "                 output_activation=\"sigmoid\",\n",
        "                 init=\"glorot_normal\",\n",
        "                 l1_penalty=0,\n",
        "                 l2_penalty=0):\n",
        "        self.data = data.copy()\n",
        "        self.recurrent_weight = recurrent_weight\n",
        "        self.optimizer = optimizer\n",
        "        self.dropout_probability = dropout_probability\n",
        "        self.hidden_activation = hidden_activation\n",
        "        self.output_activation = output_activation\n",
        "        self.init = init\n",
        "        self.l1_penalty = l1_penalty\n",
        "        self.l2_penalty = l2_penalty\n",
        "\n",
        "\n",
        "    def _get_hidden_layer_sizes(self):\n",
        "        n_dims = self.data.shape[1]\n",
        "        return [\n",
        "            min(2000, 8 * n_dims),\n",
        "            min(500, 2 * n_dims),\n",
        "            int(np.ceil(0.5 * n_dims)),\n",
        "        ]\n",
        "    \n",
        "    \n",
        "    def _create_model(self):\n",
        "        hidden_layer_sizes = self._get_hidden_layer_sizes()\n",
        "        first_layer_size = hidden_layer_sizes[0]\n",
        "        n_dims = self.data.shape[1]\n",
        "        model = Sequential()\n",
        "        model.add(Dense(\n",
        "            first_layer_size,\n",
        "            input_dim= 2 * n_dims,\n",
        "            activation=self.hidden_activation,\n",
        "            W_regularizer=l1l2(self.l1_penalty, self.l2_penalty),\n",
        "            init=self.init))\n",
        "        model.add(Dropout(self.dropout_probability))\n",
        "        for layer_size in hidden_layer_sizes[1:]:\n",
        "            model.add(Dense(\n",
        "                layer_size,\n",
        "                activation=self.hidden_activation,\n",
        "                W_regularizer=l1_l2(self.l1_penalty, self.l2_penalty),\n",
        "                init=self.init))\n",
        "            model.add(Dropout(self.dropout_probability))\n",
        "        model.add(Dense(\n",
        "            n_dims,\n",
        "            activation=self.output_activation,\n",
        "            W_regularizer=l1_l2(self.l1_penalty, self.l2_penalty),\n",
        "            init=self.init))\n",
        "        loss_function = make_reconstruction_loss(n_dims)\n",
        "        model.compile(optimizer=self.optimizer, loss=loss_function)\n",
        "        return model\n",
        "    \n",
        "    \n",
        "    def fill(self, missing_mask):\n",
        "        self.data[missing_mask] = -1\n",
        "    \n",
        "    \n",
        "    def _create_missing_mask(self):\n",
        "        if self.data.dtype != \"f\" and self.data.dtype != \"d\":\n",
        "            self.data = self.data.astype(float)\n",
        "        return np.isnan(self.data)\n",
        "    \n",
        "    \n",
        "    def _train_epoch(self, model, missing_mask, batch_size):\n",
        "        input_with_mask = np.hstack([self.data, missing_mask])\n",
        "        n_samples = len(input_with_mask)\n",
        "        n_batches = int(np.ceil(n_samples / batch_size))\n",
        "        indices = np.arange(n_samples)\n",
        "        np.random.shuffle(indices)\n",
        "        X_shuffled = input_with_mask[indices]\n",
        "        for batch_idx in range(n_batches):\n",
        "            batch_start = batch_idx * batch_size\n",
        "            batch_end = (batch_idx + 1) * batch_size\n",
        "            batch_data = X_shuffled[batch_start:batch_end, :]\n",
        "            model.train_on_batch(batch_data, batch_data)\n",
        "        return model.predict(input_with_mask)\n",
        "    \n",
        "    \n",
        "    def train(self, batch_size=256, train_epochs=100):\n",
        "        missing_mask = self._create_missing_mask()\n",
        "        self.fill(missing_mask)\n",
        "        self.model = self._create_model()\n",
        "        observed_mask = ~missing_mask\n",
        "        for epoch in range(train_epochs):\n",
        "            X_pred = self._train_epoch(self.model, missing_mask, batch_size)\n",
        "            observed_mae = masked_mae(X_true=self.data,\n",
        "                                    X_pred=X_pred,\n",
        "                                    mask=observed_mask)\n",
        "            if epoch % 50 == 0:\n",
        "                print(\"observed mae:\", observed_mae)\n",
        "            old_weight = (1.0 - self.recurrent_weight)\n",
        "            self.data[missing_mask] *= old_weight\n",
        "            pred_missing = X_pred[missing_mask]\n",
        "            self.data[missing_mask] += self.recurrent_weight * pred_missing\n",
        "        return self.data.copy()"
      ],
      "execution_count": 26,
      "outputs": []
    },
    {
      "cell_type": "markdown",
      "metadata": {
        "id": "PD2boZmpq4Ue"
      },
      "source": [
        "#  Here is a diagram of our model:\n",
        "\n"
      ]
    },
    {
      "cell_type": "code",
      "metadata": {
        "id": "Xh3_kc2oqFYX",
        "outputId": "aed85bcf-51d3-491e-ac2b-014bad5b2149",
        "colab": {
          "base_uri": "https://localhost:8080/",
          "height": 758
        }
      },
      "source": [
        "from IPython.display import Image\n",
        "Image('/content/autoencoder.png')"
      ],
      "execution_count": 8,
      "outputs": [
        {
          "output_type": "execute_result",
          "data": {
            "image/png": "[encoded data removed]",
            "text/plain": [
              "<IPython.core.display.Image object>"
            ]
          },
          "metadata": {
            "tags": []
          },
          "execution_count": 8
        }
      ]
    },
    {
      "cell_type": "markdown",
      "metadata": {
        "id": "uAAYOdVcrXKv"
      },
      "source": [
        "# Evaluation"
      ]
    },
    {
      "cell_type": "markdown",
      "metadata": {
        "id": "L4CAjcmfrZEr"
      },
      "source": [
        "##Preparing the data\n",
        "We will use the encoding technique for our categorical data as discussed above. Let’s load (and drop a column with missing values from) our dataset."
      ]
    },
    {
      "cell_type": "code",
      "metadata": {
        "id": "-vtVmNtQrvn_"
      },
      "source": [
        "df = pd.read_csv(\"/content/mushrooms.csv\")"
      ],
      "execution_count": 9,
      "outputs": []
    },
    {
      "cell_type": "code",
      "metadata": {
        "id": "harJYpt3sHxr",
        "outputId": "525471b2-609e-46e5-a98f-8391524690b2",
        "colab": {
          "base_uri": "https://localhost:8080/",
          "height": 275
        }
      },
      "source": [
        "df.head()"
      ],
      "execution_count": 10,
      "outputs": [
        {
          "output_type": "execute_result",
          "data": {
            "text/html": [
              "<div>\n",
              "<style scoped>\n",
              "    .dataframe tbody tr th:only-of-type {\n",
              "        vertical-align: middle;\n",
              "    }\n",
              "\n",
              "    .dataframe tbody tr th {\n",
              "        vertical-align: top;\n",
              "    }\n",
              "\n",
              "    .dataframe thead th {\n",
              "        text-align: right;\n",
              "    }\n",
              "</style>\n",
              "<table border=\"1\" class=\"dataframe\">\n",
              "  <thead>\n",
              "    <tr style=\"text-align: right;\">\n",
              "      <th></th>\n",
              "      <th>class</th>\n",
              "      <th>cap-shape</th>\n",
              "      <th>cap-surface</th>\n",
              "      <th>cap-color</th>\n",
              "      <th>bruises</th>\n",
              "      <th>odor</th>\n",
              "      <th>gill-attachment</th>\n",
              "      <th>gill-spacing</th>\n",
              "      <th>gill-size</th>\n",
              "      <th>gill-color</th>\n",
              "      <th>stalk-shape</th>\n",
              "      <th>stalk-root</th>\n",
              "      <th>stalk-surface-above-ring</th>\n",
              "      <th>stalk-surface-below-ring</th>\n",
              "      <th>stalk-color-above-ring</th>\n",
              "      <th>stalk-color-below-ring</th>\n",
              "      <th>veil-type</th>\n",
              "      <th>veil-color</th>\n",
              "      <th>ring-number</th>\n",
              "      <th>ring-type</th>\n",
              "      <th>spore-print-color</th>\n",
              "      <th>population</th>\n",
              "      <th>habitat</th>\n",
              "    </tr>\n",
              "  </thead>\n",
              "  <tbody>\n",
              "    <tr>\n",
              "      <th>0</th>\n",
              "      <td>p</td>\n",
              "      <td>x</td>\n",
              "      <td>s</td>\n",
              "      <td>n</td>\n",
              "      <td>t</td>\n",
              "      <td>p</td>\n",
              "      <td>f</td>\n",
              "      <td>c</td>\n",
              "      <td>n</td>\n",
              "      <td>k</td>\n",
              "      <td>e</td>\n",
              "      <td>e</td>\n",
              "      <td>s</td>\n",
              "      <td>s</td>\n",
              "      <td>w</td>\n",
              "      <td>w</td>\n",
              "      <td>p</td>\n",
              "      <td>w</td>\n",
              "      <td>o</td>\n",
              "      <td>p</td>\n",
              "      <td>k</td>\n",
              "      <td>s</td>\n",
              "      <td>u</td>\n",
              "    </tr>\n",
              "    <tr>\n",
              "      <th>1</th>\n",
              "      <td>e</td>\n",
              "      <td>x</td>\n",
              "      <td>s</td>\n",
              "      <td>y</td>\n",
              "      <td>t</td>\n",
              "      <td>a</td>\n",
              "      <td>f</td>\n",
              "      <td>c</td>\n",
              "      <td>b</td>\n",
              "      <td>k</td>\n",
              "      <td>e</td>\n",
              "      <td>c</td>\n",
              "      <td>s</td>\n",
              "      <td>s</td>\n",
              "      <td>w</td>\n",
              "      <td>w</td>\n",
              "      <td>p</td>\n",
              "      <td>w</td>\n",
              "      <td>o</td>\n",
              "      <td>p</td>\n",
              "      <td>n</td>\n",
              "      <td>n</td>\n",
              "      <td>g</td>\n",
              "    </tr>\n",
              "    <tr>\n",
              "      <th>2</th>\n",
              "      <td>e</td>\n",
              "      <td>b</td>\n",
              "      <td>s</td>\n",
              "      <td>w</td>\n",
              "      <td>t</td>\n",
              "      <td>l</td>\n",
              "      <td>f</td>\n",
              "      <td>c</td>\n",
              "      <td>b</td>\n",
              "      <td>n</td>\n",
              "      <td>e</td>\n",
              "      <td>c</td>\n",
              "      <td>s</td>\n",
              "      <td>s</td>\n",
              "      <td>w</td>\n",
              "      <td>w</td>\n",
              "      <td>p</td>\n",
              "      <td>w</td>\n",
              "      <td>o</td>\n",
              "      <td>p</td>\n",
              "      <td>n</td>\n",
              "      <td>n</td>\n",
              "      <td>m</td>\n",
              "    </tr>\n",
              "    <tr>\n",
              "      <th>3</th>\n",
              "      <td>p</td>\n",
              "      <td>x</td>\n",
              "      <td>y</td>\n",
              "      <td>w</td>\n",
              "      <td>t</td>\n",
              "      <td>p</td>\n",
              "      <td>f</td>\n",
              "      <td>c</td>\n",
              "      <td>n</td>\n",
              "      <td>n</td>\n",
              "      <td>e</td>\n",
              "      <td>e</td>\n",
              "      <td>s</td>\n",
              "      <td>s</td>\n",
              "      <td>w</td>\n",
              "      <td>w</td>\n",
              "      <td>p</td>\n",
              "      <td>w</td>\n",
              "      <td>o</td>\n",
              "      <td>p</td>\n",
              "      <td>k</td>\n",
              "      <td>s</td>\n",
              "      <td>u</td>\n",
              "    </tr>\n",
              "    <tr>\n",
              "      <th>4</th>\n",
              "      <td>e</td>\n",
              "      <td>x</td>\n",
              "      <td>s</td>\n",
              "      <td>g</td>\n",
              "      <td>f</td>\n",
              "      <td>n</td>\n",
              "      <td>f</td>\n",
              "      <td>w</td>\n",
              "      <td>b</td>\n",
              "      <td>k</td>\n",
              "      <td>t</td>\n",
              "      <td>e</td>\n",
              "      <td>s</td>\n",
              "      <td>s</td>\n",
              "      <td>w</td>\n",
              "      <td>w</td>\n",
              "      <td>p</td>\n",
              "      <td>w</td>\n",
              "      <td>o</td>\n",
              "      <td>e</td>\n",
              "      <td>n</td>\n",
              "      <td>a</td>\n",
              "      <td>g</td>\n",
              "    </tr>\n",
              "  </tbody>\n",
              "</table>\n",
              "</div>"
            ],
            "text/plain": [
              "  class cap-shape cap-surface  ... spore-print-color population habitat\n",
              "0     p         x           s  ...                 k          s       u\n",
              "1     e         x           s  ...                 n          n       g\n",
              "2     e         b           s  ...                 n          n       m\n",
              "3     p         x           y  ...                 k          s       u\n",
              "4     e         x           s  ...                 n          a       g\n",
              "\n",
              "[5 rows x 23 columns]"
            ]
          },
          "metadata": {
            "tags": []
          },
          "execution_count": 10
        }
      ]
    },
    {
      "cell_type": "code",
      "metadata": {
        "id": "qwVPb4hWsJoV"
      },
      "source": [
        "def sniff(df):\n",
        "    with pd.option_context(\"display.max_colwidth\", 20):\n",
        "        info = pd.DataFrame()\n",
        "        info['sample'] = df.iloc[0]\n",
        "        info['data type'] = df.dtypes\n",
        "        info['percent missing'] = df.isnull().sum()*100/len(df)\n",
        "        return info.sort_values('data type')"
      ],
      "execution_count": 11,
      "outputs": []
    },
    {
      "cell_type": "code",
      "metadata": {
        "id": "I9PaSVqJsWWw",
        "outputId": "589288f6-8106-4f29-dcb9-cdc01277ad67",
        "colab": {
          "base_uri": "https://localhost:8080/",
          "height": 762
        }
      },
      "source": [
        "sniff(df)"
      ],
      "execution_count": 12,
      "outputs": [
        {
          "output_type": "execute_result",
          "data": {
            "text/html": [
              "<div>\n",
              "<style scoped>\n",
              "    .dataframe tbody tr th:only-of-type {\n",
              "        vertical-align: middle;\n",
              "    }\n",
              "\n",
              "    .dataframe tbody tr th {\n",
              "        vertical-align: top;\n",
              "    }\n",
              "\n",
              "    .dataframe thead th {\n",
              "        text-align: right;\n",
              "    }\n",
              "</style>\n",
              "<table border=\"1\" class=\"dataframe\">\n",
              "  <thead>\n",
              "    <tr style=\"text-align: right;\">\n",
              "      <th></th>\n",
              "      <th>sample</th>\n",
              "      <th>data type</th>\n",
              "      <th>percent missing</th>\n",
              "    </tr>\n",
              "  </thead>\n",
              "  <tbody>\n",
              "    <tr>\n",
              "      <th>class</th>\n",
              "      <td>p</td>\n",
              "      <td>object</td>\n",
              "      <td>0.0</td>\n",
              "    </tr>\n",
              "    <tr>\n",
              "      <th>spore-print-color</th>\n",
              "      <td>k</td>\n",
              "      <td>object</td>\n",
              "      <td>0.0</td>\n",
              "    </tr>\n",
              "    <tr>\n",
              "      <th>ring-type</th>\n",
              "      <td>p</td>\n",
              "      <td>object</td>\n",
              "      <td>0.0</td>\n",
              "    </tr>\n",
              "    <tr>\n",
              "      <th>ring-number</th>\n",
              "      <td>o</td>\n",
              "      <td>object</td>\n",
              "      <td>0.0</td>\n",
              "    </tr>\n",
              "    <tr>\n",
              "      <th>veil-color</th>\n",
              "      <td>w</td>\n",
              "      <td>object</td>\n",
              "      <td>0.0</td>\n",
              "    </tr>\n",
              "    <tr>\n",
              "      <th>veil-type</th>\n",
              "      <td>p</td>\n",
              "      <td>object</td>\n",
              "      <td>0.0</td>\n",
              "    </tr>\n",
              "    <tr>\n",
              "      <th>stalk-color-below-ring</th>\n",
              "      <td>w</td>\n",
              "      <td>object</td>\n",
              "      <td>0.0</td>\n",
              "    </tr>\n",
              "    <tr>\n",
              "      <th>stalk-color-above-ring</th>\n",
              "      <td>w</td>\n",
              "      <td>object</td>\n",
              "      <td>0.0</td>\n",
              "    </tr>\n",
              "    <tr>\n",
              "      <th>stalk-surface-below-ring</th>\n",
              "      <td>s</td>\n",
              "      <td>object</td>\n",
              "      <td>0.0</td>\n",
              "    </tr>\n",
              "    <tr>\n",
              "      <th>stalk-surface-above-ring</th>\n",
              "      <td>s</td>\n",
              "      <td>object</td>\n",
              "      <td>0.0</td>\n",
              "    </tr>\n",
              "    <tr>\n",
              "      <th>population</th>\n",
              "      <td>s</td>\n",
              "      <td>object</td>\n",
              "      <td>0.0</td>\n",
              "    </tr>\n",
              "    <tr>\n",
              "      <th>stalk-root</th>\n",
              "      <td>e</td>\n",
              "      <td>object</td>\n",
              "      <td>0.0</td>\n",
              "    </tr>\n",
              "    <tr>\n",
              "      <th>gill-color</th>\n",
              "      <td>k</td>\n",
              "      <td>object</td>\n",
              "      <td>0.0</td>\n",
              "    </tr>\n",
              "    <tr>\n",
              "      <th>gill-size</th>\n",
              "      <td>n</td>\n",
              "      <td>object</td>\n",
              "      <td>0.0</td>\n",
              "    </tr>\n",
              "    <tr>\n",
              "      <th>gill-spacing</th>\n",
              "      <td>c</td>\n",
              "      <td>object</td>\n",
              "      <td>0.0</td>\n",
              "    </tr>\n",
              "    <tr>\n",
              "      <th>gill-attachment</th>\n",
              "      <td>f</td>\n",
              "      <td>object</td>\n",
              "      <td>0.0</td>\n",
              "    </tr>\n",
              "    <tr>\n",
              "      <th>odor</th>\n",
              "      <td>p</td>\n",
              "      <td>object</td>\n",
              "      <td>0.0</td>\n",
              "    </tr>\n",
              "    <tr>\n",
              "      <th>bruises</th>\n",
              "      <td>t</td>\n",
              "      <td>object</td>\n",
              "      <td>0.0</td>\n",
              "    </tr>\n",
              "    <tr>\n",
              "      <th>cap-color</th>\n",
              "      <td>n</td>\n",
              "      <td>object</td>\n",
              "      <td>0.0</td>\n",
              "    </tr>\n",
              "    <tr>\n",
              "      <th>cap-surface</th>\n",
              "      <td>s</td>\n",
              "      <td>object</td>\n",
              "      <td>0.0</td>\n",
              "    </tr>\n",
              "    <tr>\n",
              "      <th>cap-shape</th>\n",
              "      <td>x</td>\n",
              "      <td>object</td>\n",
              "      <td>0.0</td>\n",
              "    </tr>\n",
              "    <tr>\n",
              "      <th>stalk-shape</th>\n",
              "      <td>e</td>\n",
              "      <td>object</td>\n",
              "      <td>0.0</td>\n",
              "    </tr>\n",
              "    <tr>\n",
              "      <th>habitat</th>\n",
              "      <td>u</td>\n",
              "      <td>object</td>\n",
              "      <td>0.0</td>\n",
              "    </tr>\n",
              "  </tbody>\n",
              "</table>\n",
              "</div>"
            ],
            "text/plain": [
              "                         sample data type  percent missing\n",
              "class                         p    object              0.0\n",
              "spore-print-color             k    object              0.0\n",
              "ring-type                     p    object              0.0\n",
              "ring-number                   o    object              0.0\n",
              "veil-color                    w    object              0.0\n",
              "veil-type                     p    object              0.0\n",
              "stalk-color-below-ring        w    object              0.0\n",
              "stalk-color-above-ring        w    object              0.0\n",
              "stalk-surface-below-ring      s    object              0.0\n",
              "stalk-surface-above-ring      s    object              0.0\n",
              "population                    s    object              0.0\n",
              "stalk-root                    e    object              0.0\n",
              "gill-color                    k    object              0.0\n",
              "gill-size                     n    object              0.0\n",
              "gill-spacing                  c    object              0.0\n",
              "gill-attachment               f    object              0.0\n",
              "odor                          p    object              0.0\n",
              "bruises                       t    object              0.0\n",
              "cap-color                     n    object              0.0\n",
              "cap-surface                   s    object              0.0\n",
              "cap-shape                     x    object              0.0\n",
              "stalk-shape                   e    object              0.0\n",
              "habitat                       u    object              0.0"
            ]
          },
          "metadata": {
            "tags": []
          },
          "execution_count": 12
        }
      ]
    },
    {
      "cell_type": "markdown",
      "metadata": {
        "id": "xNu7hAQFtHWR"
      },
      "source": [
        "We have a very clean dataset"
      ]
    },
    {
      "cell_type": "markdown",
      "metadata": {
        "id": "8uT3FCIRtPnY"
      },
      "source": [
        "##Making data dissapear\n",
        "We will use MCAR as a driving process behind making missing data. Each data point in our dataset has 0.1 probability of being set to NaN."
      ]
    },
    {
      "cell_type": "code",
      "metadata": {
        "id": "7W_QAqy_tCxV"
      },
      "source": [
        "prob_missing = 0.1\n",
        "df_incomplete = df.copy()\n",
        "ix = [(row, col) for row in range(df.shape[0]) for col in range(df.shape[1])]\n",
        "for row, col in random.sample(ix, int(round(prob_missing * len(ix)))):\n",
        "    df_incomplete.iat[row, col] = np.nan"
      ],
      "execution_count": 14,
      "outputs": []
    },
    {
      "cell_type": "code",
      "metadata": {
        "id": "qeur3ad9u3IN"
      },
      "source": [
        "missing_encoded = pd.get_dummies(df_incomplete)\n",
        "for col in df.columns:\n",
        "    missing_cols = missing_encoded.columns.str.startswith(str(col) + \"_\")\n",
        "    missing_encoded.loc[df_incomplete[col].isnull(), missing_cols] = np.nan"
      ],
      "execution_count": 15,
      "outputs": []
    },
    {
      "cell_type": "markdown",
      "metadata": {
        "id": "SNWpoTWote3Z"
      },
      "source": [
        "##Encoding\n",
        "Let’s one-hot encode our dataset using panda’s get_dummies and apply our missing data points accordingly:"
      ]
    },
    {
      "cell_type": "code",
      "metadata": {
        "id": "J65hLTOatkLI",
        "outputId": "1ff00312-0edc-4ae9-c9c6-e0b12334cf0f",
        "colab": {
          "base_uri": "https://localhost:8080/",
          "height": 323
        }
      },
      "source": [
        "imputer = Autoencoder(missing_encoded.values)\n",
        "complete_encoded = imputer.train(train_epochs=300, batch_size=256)"
      ],
      "execution_count": 27,
      "outputs": [
        {
          "output_type": "error",
          "ename": "NameError",
          "evalue": "ignored",
          "traceback": [
            "\u001b[0;31m---------------------------------------------------------------------------\u001b[0m",
            "\u001b[0;31mNameError\u001b[0m                                 Traceback (most recent call last)",
            "\u001b[0;32m<ipython-input-27-641e856a3b58>\u001b[0m in \u001b[0;36m<module>\u001b[0;34m()\u001b[0m\n\u001b[1;32m      1\u001b[0m \u001b[0mimputer\u001b[0m \u001b[0;34m=\u001b[0m \u001b[0mAutoencoder\u001b[0m\u001b[0;34m(\u001b[0m\u001b[0mmissing_encoded\u001b[0m\u001b[0;34m.\u001b[0m\u001b[0mvalues\u001b[0m\u001b[0;34m)\u001b[0m\u001b[0;34m\u001b[0m\u001b[0;34m\u001b[0m\u001b[0m\n\u001b[0;32m----> 2\u001b[0;31m \u001b[0mcomplete_encoded\u001b[0m \u001b[0;34m=\u001b[0m \u001b[0mimputer\u001b[0m\u001b[0;34m.\u001b[0m\u001b[0mtrain\u001b[0m\u001b[0;34m(\u001b[0m\u001b[0mtrain_epochs\u001b[0m\u001b[0;34m=\u001b[0m\u001b[0;36m300\u001b[0m\u001b[0;34m,\u001b[0m \u001b[0mbatch_size\u001b[0m\u001b[0;34m=\u001b[0m\u001b[0;36m256\u001b[0m\u001b[0;34m)\u001b[0m\u001b[0;34m\u001b[0m\u001b[0;34m\u001b[0m\u001b[0m\n\u001b[0m",
            "\u001b[0;32m<ipython-input-26-e9174b4a1dca>\u001b[0m in \u001b[0;36mtrain\u001b[0;34m(self, batch_size, train_epochs)\u001b[0m\n\u001b[1;32m     87\u001b[0m         \u001b[0mmissing_mask\u001b[0m \u001b[0;34m=\u001b[0m \u001b[0mself\u001b[0m\u001b[0;34m.\u001b[0m\u001b[0m_create_missing_mask\u001b[0m\u001b[0;34m(\u001b[0m\u001b[0;34m)\u001b[0m\u001b[0;34m\u001b[0m\u001b[0;34m\u001b[0m\u001b[0m\n\u001b[1;32m     88\u001b[0m         \u001b[0mself\u001b[0m\u001b[0;34m.\u001b[0m\u001b[0mfill\u001b[0m\u001b[0;34m(\u001b[0m\u001b[0mmissing_mask\u001b[0m\u001b[0;34m)\u001b[0m\u001b[0;34m\u001b[0m\u001b[0;34m\u001b[0m\u001b[0m\n\u001b[0;32m---> 89\u001b[0;31m         \u001b[0mself\u001b[0m\u001b[0;34m.\u001b[0m\u001b[0mmodel\u001b[0m \u001b[0;34m=\u001b[0m \u001b[0mself\u001b[0m\u001b[0;34m.\u001b[0m\u001b[0m_create_model\u001b[0m\u001b[0;34m(\u001b[0m\u001b[0;34m)\u001b[0m\u001b[0;34m\u001b[0m\u001b[0;34m\u001b[0m\u001b[0m\n\u001b[0m\u001b[1;32m     90\u001b[0m         \u001b[0mobserved_mask\u001b[0m \u001b[0;34m=\u001b[0m \u001b[0;34m~\u001b[0m\u001b[0mmissing_mask\u001b[0m\u001b[0;34m\u001b[0m\u001b[0;34m\u001b[0m\u001b[0m\n\u001b[1;32m     91\u001b[0m         \u001b[0;32mfor\u001b[0m \u001b[0mepoch\u001b[0m \u001b[0;32min\u001b[0m \u001b[0mrange\u001b[0m\u001b[0;34m(\u001b[0m\u001b[0mtrain_epochs\u001b[0m\u001b[0;34m)\u001b[0m\u001b[0;34m:\u001b[0m\u001b[0;34m\u001b[0m\u001b[0;34m\u001b[0m\u001b[0m\n",
            "\u001b[0;32m<ipython-input-26-e9174b4a1dca>\u001b[0m in \u001b[0;36m_create_model\u001b[0;34m(self)\u001b[0m\n\u001b[1;32m     39\u001b[0m             \u001b[0minput_dim\u001b[0m\u001b[0;34m=\u001b[0m \u001b[0;36m2\u001b[0m \u001b[0;34m*\u001b[0m \u001b[0mn_dims\u001b[0m\u001b[0;34m,\u001b[0m\u001b[0;34m\u001b[0m\u001b[0;34m\u001b[0m\u001b[0m\n\u001b[1;32m     40\u001b[0m             \u001b[0mactivation\u001b[0m\u001b[0;34m=\u001b[0m\u001b[0mself\u001b[0m\u001b[0;34m.\u001b[0m\u001b[0mhidden_activation\u001b[0m\u001b[0;34m,\u001b[0m\u001b[0;34m\u001b[0m\u001b[0;34m\u001b[0m\u001b[0m\n\u001b[0;32m---> 41\u001b[0;31m             \u001b[0mW_regularizer\u001b[0m\u001b[0;34m=\u001b[0m\u001b[0ml1l2\u001b[0m\u001b[0;34m(\u001b[0m\u001b[0mself\u001b[0m\u001b[0;34m.\u001b[0m\u001b[0ml1_penalty\u001b[0m\u001b[0;34m,\u001b[0m \u001b[0mself\u001b[0m\u001b[0;34m.\u001b[0m\u001b[0ml2_penalty\u001b[0m\u001b[0;34m)\u001b[0m\u001b[0;34m,\u001b[0m\u001b[0;34m\u001b[0m\u001b[0;34m\u001b[0m\u001b[0m\n\u001b[0m\u001b[1;32m     42\u001b[0m             init=self.init))\n\u001b[1;32m     43\u001b[0m         \u001b[0mmodel\u001b[0m\u001b[0;34m.\u001b[0m\u001b[0madd\u001b[0m\u001b[0;34m(\u001b[0m\u001b[0mDropout\u001b[0m\u001b[0;34m(\u001b[0m\u001b[0mself\u001b[0m\u001b[0;34m.\u001b[0m\u001b[0mdropout_probability\u001b[0m\u001b[0;34m)\u001b[0m\u001b[0;34m)\u001b[0m\u001b[0;34m\u001b[0m\u001b[0;34m\u001b[0m\u001b[0m\n",
            "\u001b[0;31mNameError\u001b[0m: name 'l1l2' is not defined"
          ]
        }
      ]
    },
    {
      "cell_type": "code",
      "metadata": {
        "id": "_nstjluvto_I"
      },
      "source": [
        ""
      ],
      "execution_count": null,
      "outputs": []
    }
  ]
}